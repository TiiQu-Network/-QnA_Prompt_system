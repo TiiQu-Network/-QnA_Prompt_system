{
 "cells": [
  {
   "cell_type": "code",
   "execution_count": 70,
   "id": "10b3bf88",
   "metadata": {},
   "outputs": [
    {
     "data": {
      "text/html": [
       "<div>\n",
       "<style scoped>\n",
       "    .dataframe tbody tr th:only-of-type {\n",
       "        vertical-align: middle;\n",
       "    }\n",
       "\n",
       "    .dataframe tbody tr th {\n",
       "        vertical-align: top;\n",
       "    }\n",
       "\n",
       "    .dataframe thead th {\n",
       "        text-align: right;\n",
       "    }\n",
       "</style>\n",
       "<table border=\"1\" class=\"dataframe\">\n",
       "  <thead>\n",
       "    <tr style=\"text-align: right;\">\n",
       "      <th></th>\n",
       "      <th>Question</th>\n",
       "      <th>Answer</th>\n",
       "      <th>topic_name</th>\n",
       "      <th>topic_words</th>\n",
       "      <th>Unnamed: 4</th>\n",
       "    </tr>\n",
       "  </thead>\n",
       "  <tbody>\n",
       "    <tr>\n",
       "      <th>0</th>\n",
       "      <td>What were the sources of atmospheric nutrients...</td>\n",
       "      <td>The primary sources of atmospheric nutrients t...</td>\n",
       "      <td>Bio-Fishery Ecosys.</td>\n",
       "      <td>fisheries, fishing, zooplankton, bioclimatic, ...</td>\n",
       "      <td>NaN</td>\n",
       "    </tr>\n",
       "    <tr>\n",
       "      <th>1</th>\n",
       "      <td>How was the fertilization effect on phytoplank...</td>\n",
       "      <td>The fertilization effect on phytoplankton was ...</td>\n",
       "      <td>Bio-Fishery Ecosys.</td>\n",
       "      <td>fisheries, fishing, zooplankton, bioclimatic, ...</td>\n",
       "      <td>NaN</td>\n",
       "    </tr>\n",
       "    <tr>\n",
       "      <th>2</th>\n",
       "      <td>How do rising temperatures affect Alpine lakes?</td>\n",
       "      <td>Rising temperatures increase mineral weatherin...</td>\n",
       "      <td>Bio-Fishery Ecosys.</td>\n",
       "      <td>fisheries, fishing, zooplankton, bioclimatic, ...</td>\n",
       "      <td>NaN</td>\n",
       "    </tr>\n",
       "    <tr>\n",
       "      <th>3</th>\n",
       "      <td>How has an increase in phytoplankton biomass b...</td>\n",
       "      <td>Significant increase in phytoplankton biomass ...</td>\n",
       "      <td>Bio-Fishery Ecosys.</td>\n",
       "      <td>fisheries, fishing, zooplankton, bioclimatic, ...</td>\n",
       "      <td>NaN</td>\n",
       "    </tr>\n",
       "    <tr>\n",
       "      <th>4</th>\n",
       "      <td>How do higher metabolic rates of organisms and...</td>\n",
       "      <td>Higher metabolic rates of organisms and longer...</td>\n",
       "      <td>Climatological Vegetation</td>\n",
       "      <td>vegetation, plants, climatological, planting, ...</td>\n",
       "      <td>NaN</td>\n",
       "    </tr>\n",
       "    <tr>\n",
       "      <th>...</th>\n",
       "      <td>...</td>\n",
       "      <td>...</td>\n",
       "      <td>...</td>\n",
       "      <td>...</td>\n",
       "      <td>...</td>\n",
       "    </tr>\n",
       "    <tr>\n",
       "      <th>8490</th>\n",
       "      <td>NaN</td>\n",
       "      <td>NaN</td>\n",
       "      <td>NaN</td>\n",
       "      <td>NaN</td>\n",
       "      <td>NaN</td>\n",
       "    </tr>\n",
       "    <tr>\n",
       "      <th>8491</th>\n",
       "      <td>NaN</td>\n",
       "      <td>NaN</td>\n",
       "      <td>NaN</td>\n",
       "      <td>NaN</td>\n",
       "      <td>NaN</td>\n",
       "    </tr>\n",
       "    <tr>\n",
       "      <th>8492</th>\n",
       "      <td>NaN</td>\n",
       "      <td>NaN</td>\n",
       "      <td>NaN</td>\n",
       "      <td>NaN</td>\n",
       "      <td>NaN</td>\n",
       "    </tr>\n",
       "    <tr>\n",
       "      <th>8493</th>\n",
       "      <td>NaN</td>\n",
       "      <td>NaN</td>\n",
       "      <td>NaN</td>\n",
       "      <td>NaN</td>\n",
       "      <td>NaN</td>\n",
       "    </tr>\n",
       "    <tr>\n",
       "      <th>8494</th>\n",
       "      <td>NaN</td>\n",
       "      <td>NaN</td>\n",
       "      <td>NaN</td>\n",
       "      <td>NaN</td>\n",
       "      <td>NaN</td>\n",
       "    </tr>\n",
       "  </tbody>\n",
       "</table>\n",
       "<p>8495 rows × 5 columns</p>\n",
       "</div>"
      ],
      "text/plain": [
       "                                               Question   \n",
       "0     What were the sources of atmospheric nutrients...  \\\n",
       "1     How was the fertilization effect on phytoplank...   \n",
       "2       How do rising temperatures affect Alpine lakes?   \n",
       "3     How has an increase in phytoplankton biomass b...   \n",
       "4     How do higher metabolic rates of organisms and...   \n",
       "...                                                 ...   \n",
       "8490                                                NaN   \n",
       "8491                                                NaN   \n",
       "8492                                                NaN   \n",
       "8493                                                NaN   \n",
       "8494                                                NaN   \n",
       "\n",
       "                                                 Answer   \n",
       "0     The primary sources of atmospheric nutrients t...  \\\n",
       "1     The fertilization effect on phytoplankton was ...   \n",
       "2     Rising temperatures increase mineral weatherin...   \n",
       "3     Significant increase in phytoplankton biomass ...   \n",
       "4     Higher metabolic rates of organisms and longer...   \n",
       "...                                                 ...   \n",
       "8490                                                NaN   \n",
       "8491                                                NaN   \n",
       "8492                                                NaN   \n",
       "8493                                                NaN   \n",
       "8494                                                NaN   \n",
       "\n",
       "                     topic_name   \n",
       "0           Bio-Fishery Ecosys.  \\\n",
       "1           Bio-Fishery Ecosys.   \n",
       "2           Bio-Fishery Ecosys.   \n",
       "3           Bio-Fishery Ecosys.   \n",
       "4     Climatological Vegetation   \n",
       "...                         ...   \n",
       "8490                        NaN   \n",
       "8491                        NaN   \n",
       "8492                        NaN   \n",
       "8493                        NaN   \n",
       "8494                        NaN   \n",
       "\n",
       "                                            topic_words  Unnamed: 4  \n",
       "0     fisheries, fishing, zooplankton, bioclimatic, ...         NaN  \n",
       "1     fisheries, fishing, zooplankton, bioclimatic, ...         NaN  \n",
       "2     fisheries, fishing, zooplankton, bioclimatic, ...         NaN  \n",
       "3     fisheries, fishing, zooplankton, bioclimatic, ...         NaN  \n",
       "4     vegetation, plants, climatological, planting, ...         NaN  \n",
       "...                                                 ...         ...  \n",
       "8490                                                NaN         NaN  \n",
       "8491                                                NaN         NaN  \n",
       "8492                                                NaN         NaN  \n",
       "8493                                                NaN         NaN  \n",
       "8494                                                NaN         NaN  \n",
       "\n",
       "[8495 rows x 5 columns]"
      ]
     },
     "execution_count": 70,
     "metadata": {},
     "output_type": "execute_result"
    }
   ],
   "source": [
    "import pandas as pd\n",
    "import warnings\n",
    "warnings.filterwarnings('ignore')\n",
    "\n",
    "#The code below will retrieve the dataset into a pandas dataframe\n",
    "file=\"8606-subtopics_Clean.csv\"\n",
    "\n",
    "\n",
    "df1=pd.read_csv(file)\n",
    "\n",
    "\n",
    "df1"
   ]
  },
  {
   "cell_type": "code",
   "execution_count": 57,
   "id": "983938b4",
   "metadata": {},
   "outputs": [
    {
     "name": "stdout",
     "output_type": "stream",
     "text": [
      "<class 'pandas.core.frame.DataFrame'>\n",
      "RangeIndex: 8495 entries, 0 to 8494\n",
      "Data columns (total 2 columns):\n",
      " #   Column    Non-Null Count  Dtype \n",
      "---  ------    --------------  ----- \n",
      " 0   Answer    8479 non-null   object\n",
      " 1   Question  8479 non-null   object\n",
      "dtypes: object(2)\n",
      "memory usage: 132.9+ KB\n"
     ]
    }
   ],
   "source": [
    "ques=df1[[\"Answer\",\"Question\"]]\n",
    "\n",
    "ques.info()"
   ]
  },
  {
   "cell_type": "code",
   "execution_count": 58,
   "id": "caef5c28",
   "metadata": {},
   "outputs": [
    {
     "name": "stdout",
     "output_type": "stream",
     "text": [
      "<class 'pandas.core.frame.DataFrame'>\n",
      "Index: 8479 entries, 0 to 8478\n",
      "Data columns (total 2 columns):\n",
      " #   Column    Non-Null Count  Dtype \n",
      "---  ------    --------------  ----- \n",
      " 0   Answer    8479 non-null   object\n",
      " 1   Question  8479 non-null   object\n",
      "dtypes: object(2)\n",
      "memory usage: 198.7+ KB\n"
     ]
    }
   ],
   "source": [
    "qu=ques.dropna() # Drop Nans rows\n",
    "\n",
    "qu.info() "
   ]
  },
  {
   "cell_type": "code",
   "execution_count": 59,
   "id": "44d04ccf",
   "metadata": {},
   "outputs": [],
   "source": [
    "import string\n",
    "#Remove puntuation\n",
    "def remove_punctuations(text):\n",
    "    for punctuation in string.punctuation:\n",
    "        text = text.replace(punctuation, '')\n",
    "    return text"
   ]
  },
  {
   "cell_type": "code",
   "execution_count": 60,
   "id": "3c517090",
   "metadata": {},
   "outputs": [
    {
     "data": {
      "text/plain": [
       "Answer      The primary sources of atmospheric nutrients t...\n",
       "Question    What were the sources of atmospheric nutrients...\n",
       "new         What were the sources of atmospheric nutrients...\n",
       "Name: 0, dtype: object"
      ]
     },
     "execution_count": 60,
     "metadata": {},
     "output_type": "execute_result"
    }
   ],
   "source": [
    "# We will combine question and answers into one column\n",
    "# and create embedding from it\n",
    "# Note there are other ways to do this, eg take question and answer seperatly,\n",
    "# Use only one of the columns\n",
    "# But for the first iteration of the model we will use both columns combined\n",
    "# No stopwords as stopwords can have importance in this problem\n",
    "# No lemmatization in this iteration but can be tried in next iteration\n",
    "\n",
    "qu[\"Question\"] = qu[\"Question\"].apply(remove_punctuations) # Remove puntuation\n",
    "qu[\"Answer\"] = qu[\"Answer\"].apply(remove_punctuations)\n",
    "qu[\"new\"]= qu[\"Question\"] +\" \"+ qu[\"Answer\"]\n",
    "\n",
    "qu.iloc[0]"
   ]
  },
  {
   "cell_type": "code",
   "execution_count": 61,
   "id": "8986f0a7",
   "metadata": {},
   "outputs": [],
   "source": [
    "qu[\"new\"]=qu[\"new\"].str.lower() #Lower the words"
   ]
  },
  {
   "cell_type": "code",
   "execution_count": 62,
   "id": "0389274d",
   "metadata": {},
   "outputs": [],
   "source": [
    "from sklearn.feature_extraction.text import TfidfVectorizer\n",
    "from sklearn.cluster import KMeans\n",
    "\n",
    "#Use TF-IDF to to vectorize the column\n",
    "documents = qu[\"new\"].values.astype(\"U\")\n",
    "\n",
    "vectorizer = TfidfVectorizer(stop_words='english')\n",
    "features = vectorizer.fit_transform(documents)"
   ]
  },
  {
   "cell_type": "code",
   "execution_count": 63,
   "id": "ad10a6e9",
   "metadata": {},
   "outputs": [
    {
     "data": {
      "image/png": "[encoded data removed]",
      "text/plain": [
       "<Figure size 1600x800 with 1 Axes>"
      ]
     },
     "metadata": {},
     "output_type": "display_data"
    }
   ],
   "source": [
    "import matplotlib.pyplot as plt\n",
    "from sklearn.cluster import KMeans\n",
    "%matplotlib inline \n",
    "\n",
    "distortions = []\n",
    "K = range(1,15)\n",
    "for k in K:\n",
    "    kmeanModel = KMeans(n_clusters=k)\n",
    "    kmeanModel.fit(features)\n",
    "    distortions.append(kmeanModel.inertia_)\n",
    "    \n",
    "plt.figure(figsize=(16,8))\n",
    "plt.plot(K, distortions, 'bx-')\n",
    "plt.xlabel('k')\n",
    "plt.ylabel('Distortion')\n",
    "plt.title('The Elbow Method showing the optimal k')\n",
    "plt.show()"
   ]
  },
  {
   "cell_type": "markdown",
   "id": "3c84cba5",
   "metadata": {},
   "source": [
    "From the elbow method 12 seems to be good number of clusters. Various other clusters were tried and 12 produced the most meaningful ones"
   ]
  },
  {
   "cell_type": "code",
   "execution_count": 64,
   "id": "53e8f608",
   "metadata": {},
   "outputs": [
    {
     "data": {
      "text/html": [
       "<style>#sk-container-id-7 {color: black;background-color: white;}#sk-container-id-7 pre{padding: 0;}#sk-container-id-7 div.sk-toggleable {background-color: white;}#sk-container-id-7 label.sk-toggleable__label {cursor: pointer;display: block;width: 100%;margin-bottom: 0;padding: 0.3em;box-sizing: border-box;text-align: center;}#sk-container-id-7 label.sk-toggleable__label-arrow:before {content: \"▸\";float: left;margin-right: 0.25em;color: #696969;}#sk-container-id-7 label.sk-toggleable__label-arrow:hover:before {color: black;}#sk-container-id-7 div.sk-estimator:hover label.sk-toggleable__label-arrow:before {color: black;}#sk-container-id-7 div.sk-toggleable__content {max-height: 0;max-width: 0;overflow: hidden;text-align: left;background-color: #f0f8ff;}#sk-container-id-7 div.sk-toggleable__content pre {margin: 0.2em;color: black;border-radius: 0.25em;background-color: #f0f8ff;}#sk-container-id-7 input.sk-toggleable__control:checked~div.sk-toggleable__content {max-height: 200px;max-width: 100%;overflow: auto;}#sk-container-id-7 input.sk-toggleable__control:checked~label.sk-toggleable__label-arrow:before {content: \"▾\";}#sk-container-id-7 div.sk-estimator input.sk-toggleable__control:checked~label.sk-toggleable__label {background-color: #d4ebff;}#sk-container-id-7 div.sk-label input.sk-toggleable__control:checked~label.sk-toggleable__label {background-color: #d4ebff;}#sk-container-id-7 input.sk-hidden--visually {border: 0;clip: rect(1px 1px 1px 1px);clip: rect(1px, 1px, 1px, 1px);height: 1px;margin: -1px;overflow: hidden;padding: 0;position: absolute;width: 1px;}#sk-container-id-7 div.sk-estimator {font-family: monospace;background-color: #f0f8ff;border: 1px dotted black;border-radius: 0.25em;box-sizing: border-box;margin-bottom: 0.5em;}#sk-container-id-7 div.sk-estimator:hover {background-color: #d4ebff;}#sk-container-id-7 div.sk-parallel-item::after {content: \"\";width: 100%;border-bottom: 1px solid gray;flex-grow: 1;}#sk-container-id-7 div.sk-label:hover label.sk-toggleable__label {background-color: #d4ebff;}#sk-container-id-7 div.sk-serial::before {content: \"\";position: absolute;border-left: 1px solid gray;box-sizing: border-box;top: 0;bottom: 0;left: 50%;z-index: 0;}#sk-container-id-7 div.sk-serial {display: flex;flex-direction: column;align-items: center;background-color: white;padding-right: 0.2em;padding-left: 0.2em;position: relative;}#sk-container-id-7 div.sk-item {position: relative;z-index: 1;}#sk-container-id-7 div.sk-parallel {display: flex;align-items: stretch;justify-content: center;background-color: white;position: relative;}#sk-container-id-7 div.sk-item::before, #sk-container-id-7 div.sk-parallel-item::before {content: \"\";position: absolute;border-left: 1px solid gray;box-sizing: border-box;top: 0;bottom: 0;left: 50%;z-index: -1;}#sk-container-id-7 div.sk-parallel-item {display: flex;flex-direction: column;z-index: 1;position: relative;background-color: white;}#sk-container-id-7 div.sk-parallel-item:first-child::after {align-self: flex-end;width: 50%;}#sk-container-id-7 div.sk-parallel-item:last-child::after {align-self: flex-start;width: 50%;}#sk-container-id-7 div.sk-parallel-item:only-child::after {width: 0;}#sk-container-id-7 div.sk-dashed-wrapped {border: 1px dashed gray;margin: 0 0.4em 0.5em 0.4em;box-sizing: border-box;padding-bottom: 0.4em;background-color: white;}#sk-container-id-7 div.sk-label label {font-family: monospace;font-weight: bold;display: inline-block;line-height: 1.2em;}#sk-container-id-7 div.sk-label-container {text-align: center;}#sk-container-id-7 div.sk-container {/* jupyter's `normalize.less` sets `[hidden] { display: none; }` but bootstrap.min.css set `[hidden] { display: none !important; }` so we also need the `!important` here to be able to override the default hidden behavior on the sphinx rendered scikit-learn.org. See: https://github.com/scikit-learn/scikit-learn/issues/21755 */display: inline-block !important;position: relative;}#sk-container-id-7 div.sk-text-repr-fallback {display: none;}</style><div id=\"sk-container-id-7\" class=\"sk-top-container\"><div class=\"sk-text-repr-fallback\"><pre>KMeans(max_iter=100, n_clusters=12, n_init=1)</pre><b>In a Jupyter environment, please rerun this cell to show the HTML representation or trust the notebook. <br />On GitHub, the HTML representation is unable to render, please try loading this page with nbviewer.org.</b></div><div class=\"sk-container\" hidden><div class=\"sk-item\"><div class=\"sk-estimator sk-toggleable\"><input class=\"sk-toggleable__control sk-hidden--visually\" id=\"sk-estimator-id-7\" type=\"checkbox\" checked><label for=\"sk-estimator-id-7\" class=\"sk-toggleable__label sk-toggleable__label-arrow\">KMeans</label><div class=\"sk-toggleable__content\"><pre>KMeans(max_iter=100, n_clusters=12, n_init=1)</pre></div></div></div></div></div>"
      ],
      "text/plain": [
       "KMeans(max_iter=100, n_clusters=12, n_init=1)"
      ]
     },
     "execution_count": 64,
     "metadata": {},
     "output_type": "execute_result"
    }
   ],
   "source": [
    "#K means with 12 clusters\n",
    "k = 12\n",
    "model = KMeans(n_clusters=k, init='k-means++', max_iter=100, n_init=1)\n",
    "\n",
    "model.fit(features)"
   ]
  },
  {
   "cell_type": "code",
   "execution_count": 65,
   "id": "b4b2a198",
   "metadata": {},
   "outputs": [
    {
     "name": "stdout",
     "output_type": "stream",
     "text": [
      "Silhouetter Score: 0.008\n"
     ]
    }
   ],
   "source": [
    "from sklearn.metrics import silhouette_score\n",
    "\n",
    "\n",
    "#\n",
    "model.fit_predict(features)\n",
    "#\n",
    "# Calculate Silhoutte Score\n",
    "#\n",
    "score = silhouette_score(features, km.labels_)\n",
    "#\n",
    "# Print the score\n",
    "#\n",
    "print('Silhouetter Score: %.3f' % score)"
   ]
  },
  {
   "cell_type": "markdown",
   "id": "755cf17e",
   "metadata": {},
   "source": [
    "The Silhoutte score is 0.008."
   ]
  },
  {
   "cell_type": "code",
   "execution_count": 66,
   "id": "f0e8842e",
   "metadata": {},
   "outputs": [],
   "source": [
    "qu[\"cluster\"]=model.labels_"
   ]
  },
  {
   "cell_type": "code",
   "execution_count": 69,
   "id": "afcc2b9c",
   "metadata": {},
   "outputs": [
    {
     "name": "stdout",
     "output_type": "stream",
     "text": [
      "\n",
      "\n",
      "0 : research, conducted, paper, energy, purpose, main, focus, objective, study, climate, als, aim, funding, cooling, discussed, et, eahx, change, used, 2021, topic, buildings, different, published, type\n",
      "\n",
      "\n",
      "1 : energy, renewable, consumption, efficiency, demand, sources, systems, used, buildings, sector, solar, heating, thermal, economic, supply, main, use, models, wind, does, savings, impact, reduce, analysis, production\n",
      "\n",
      "\n",
      "2 : study, used, purpose, energy, als, focus, area, climate, main, case, aim, conducted, et, vegetation, did, change, considered, results, factors, journal, thermal, published, soil, findings, examine\n",
      "\n",
      "\n",
      "3 : temperature, used, average, pv, water, emissions, does, heat, carbon, cooling, increase, power, soil, scenario, rate, efficiency, co2, thermal, air, area, vegetation, solar, precipitation, purpose, performance\n",
      "\n",
      "\n",
      "4 : model, used, energy, adaptive, japanese, models, variables, using, purpose, demand, does, constraints, simulation, comfort, time, data, proposed, developed, control, local, results, accuracy, based, snow, parameters\n",
      "\n",
      "\n",
      "5 : building, energy, buildings, performance, used, design, thermal, ventilation, cooling, purpose, envelope, consumption, optimization, shape, simulation, use, heat, heating, load, sector, comfort, study, passive, residential, systems\n",
      "\n",
      "\n",
      "6 : electricity, demand, heat, peak, generation, renewable, gb, consumption, pump, energy, production, heating, annual, pumps, gw, total, pv, used, year, countries, 2050, residential, cost, sources, impact\n",
      "\n",
      "\n",
      "7 : data, used, available, weather, study, meteorological, supplementary, collected, resolution, model, nn, request, obtained, source, article, sensing, analysis, remote, sources, type, method, sample, precipitation, hourly, temperature\n",
      "\n",
      "\n",
      "8 : al, et, study, research, did, paper, conducted, focus, 2019, 2020, 2018, energy, main, climate, 2016, purpose, 2017, use, change, 2015, article, 2022, used, 2021, title\n",
      "\n",
      "\n",
      "9 : climate, change, impacts, impact, species, vegetation, changes, used, global, factors, water, effects, activities, niche, future, land, scenarios, resources, study, assessment, fish, anthropogenic, temperature, forest, use\n",
      "\n",
      "\n",
      "10 : interests, personal, competing, authors, financial, relationships, reported, work, appeared, declare, known, influence, paper, declared, declaration, influenced, statement, kind, declaring, did, type, affected, conflict, disclose, swer\n",
      "\n",
      "\n",
      "11 : article, paper, title, journal, published, focus, energy, main, als, doi, et, purpose, discussed, reference, buildings, publication, review, climate, paragraph, focuses, 2016, mentioned, research, topic, discusses\n"
     ]
    }
   ],
   "source": [
    "# This gives the clusters and corresponding words\n",
    "\n",
    "common_words = model.cluster_centers_.argsort()[:,-1:-26:-1]\n",
    "for num, centroid in enumerate(common_words):\n",
    "    print(\"\\n\")\n",
    "    print(str(num) + ' : ' + ', '.join(terms[word] for word in centroid))"
   ]
  },
  {
   "cell_type": "markdown",
   "id": "58379584",
   "metadata": {},
   "source": [
    "Clusters:\n",
    " - 0 = Strategy and Management\n",
    " - 1 = Ethics and Regulation\n",
    " - 2 = Analysis\n",
    " - 3 = Strategy and Management\n",
    " - 4 = Strategy and Management\n",
    " - 5 = Ethics and Regulation\n",
    " - 6 = Strategy and Management\n",
    " - 7 = Analysis \n",
    " - 8 = Analysis\n",
    " - 9 = Ethics and Regulation\n",
    " - 10 = Ethics and Regulation\n",
    " - 11 = Analysis\n",
    " \n",
    " \n",
    " \n",
    "\n",
    "Note all these clusters contain Science and Tech words"
   ]
  },
  {
   "cell_type": "code",
   "execution_count": null,
   "id": "3cdff1f8",
   "metadata": {},
   "outputs": [],
   "source": []
  }
 ],
 "metadata": {
  "kernelspec": {
   "display_name": "Python 3 (ipykernel)",
   "language": "python",
   "name": "python3"
  },
  "language_info": {
   "codemirror_mode": {
    "name": "ipython",
    "version": 3
   },
   "file_extension": ".py",
   "mimetype": "text/x-python",
   "name": "python",
   "nbconvert_exporter": "python",
   "pygments_lexer": "ipython3",
   "version": "3.8.16"
  }
 },
 "nbformat": 4,
 "nbformat_minor": 5
}
